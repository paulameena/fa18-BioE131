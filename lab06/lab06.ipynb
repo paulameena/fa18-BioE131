{
 "cells": [
  {
   "cell_type": "markdown",
   "metadata": {},
   "source": [
    "## Part 1: Align the reads to the human genome\n",
    "\n",
    "1) Use the bowtie2 hg19 reference human genome database; input reads will be in the /data/lab6/illumina_reads.fastq  \n",
    "Note: if you use the -un unaligned.fastq option, the unaligned.fastq will contain all reads that didn't align to the human genome (meaning the DNA we want because it contains the bacteria DNA)\n",
    "\n",
    "\n",
    "Command:\n",
    "\n",
    "`bowtie2 -p 4 --fast --no-unal -x /data/hg19/hg19 -U /data/lab6/illumina_reads.fastq -S output.sam --un isolated_shewanella.fastq`\n",
    "\n",
    "**Output:**  \n",
    "1124714 reads; of these:  \n",
    "  1124714 (100.00%) were unpaired; of these:  \n",
    "    1028346 (91.43%) aligned 0 times  \n",
    "    86808 (7.72%) aligned exactly 1 time  \n",
    "    9560 (0.85%) aligned >1 times  \n",
    "8.57% overall alignment rate  \n",
    "\n",
    "8.57% of the sequencing library came from the contaminating human DNA"
   ]
  },
  {
   "cell_type": "markdown",
   "metadata": {},
   "source": [
    "## Part 2: Align the isolated_shewanella.fastq to the shewanella genome  \n",
    "\n",
    "1) Use the bowtie2 commandline to again align to the S. oneidensis MR-1 genome this time. The majority of the dna should align this time and have a higher overall alignment rate output.\n",
    "\n",
    "> The -un garbage.fastq contains other sources of contamination that are neither human nor bacteria.\n",
    "\n",
    "Command:\n",
    "\n",
    "`bowtie2 -p 4 --fast --no-unal -x /data/lab6/shewanella_oneidensis_mr-1 -U isolated_shewanella.fastq -S output2.sam --un garbage.fastq`\n",
    "\n",
    "**Output2:**  \n",
    "1028346 reads; of these:  \n",
    "  1028346 (100.00%) were unpaired; of these:  \n",
    "    299342 (29.11%) aligned 0 times  \n",
    "    687579 (66.86%) aligned exactly 1 time  \n",
    "    41425 (4.03%) aligned >1 times  \n",
    "70.89% overall alignment rate  \n",
    "\n",
    "70.89% of the remaining DNA was actually from the bacteria of interest. 29.11% of filtered library didn't align to the reference genome. We used the fast version instead of the very fast for slightly better sensitivity. If we switch to the very sensitive version it gets the following output:\n",
    "\n",
    "1028346 reads; of these:  \n",
    "  1028346 (100.00%) were unpaired; of these:  \n",
    "    298079 (28.99%) aligned 0 times  \n",
    "    688180 (66.92%) aligned exactly 1 time  \n",
    "    42087 (4.09%) aligned >1 times  \n",
    "71.01% overall alignment rate  \n",
    "\n",
    "It didn't improve by much but the alignment rate is better. Only 28.99% of the data didn't align this time."
   ]
  },
  {
   "cell_type": "markdown",
   "metadata": {},
   "source": [
    "## Part 3: Generate a coverage plot of the output2.sam which contains the isolated S. oneidensis sequences\n",
    "\n",
    "1) convert sam to bam:  \n",
    "`samtools view -b output2.sam > shewanella.aligned.bam`\n",
    "\n",
    "2) sort the bam:  \n",
    "`samtools sort shewanella.aligned.bam > shewanella.aligned.sorted.bam`\n",
    "\n",
    "3) index the bam:  \n",
    "`samtools index shewanella.aligned.sorted.bam`\n",
    "\n",
    "4)  generate a list of coordinates in a genome and the number fo times a read aligned to that position  \n",
    "`samtools depth -a shewanella.aligned.sorted.bam > coverage.tab`\n",
    "\n",
    "Min:  0  \n",
    "Max:  281  \n",
    "Mean: 37.03830306625343  \n",
    "\n",
    "5) import the coverage.tab file into this notebook and plot it using matplotlib\n"
   ]
  },
  {
   "cell_type": "code",
   "execution_count": 7,
   "metadata": {},
   "outputs": [
    {
     "data": {
      "text/html": [
       "<div>\n",
       "<style scoped>\n",
       "    .dataframe tbody tr th:only-of-type {\n",
       "        vertical-align: middle;\n",
       "    }\n",
       "\n",
       "    .dataframe tbody tr th {\n",
       "        vertical-align: top;\n",
       "    }\n",
       "\n",
       "    .dataframe thead th {\n",
       "        text-align: right;\n",
       "    }\n",
       "</style>\n",
       "<table border=\"1\" class=\"dataframe\">\n",
       "  <thead>\n",
       "    <tr style=\"text-align: right;\">\n",
       "      <th></th>\n",
       "      <th>genome</th>\n",
       "      <th>index</th>\n",
       "      <th>coverage</th>\n",
       "    </tr>\n",
       "  </thead>\n",
       "  <tbody>\n",
       "    <tr>\n",
       "      <th>0</th>\n",
       "      <td>AE014299.2</td>\n",
       "      <td>1</td>\n",
       "      <td>0</td>\n",
       "    </tr>\n",
       "    <tr>\n",
       "      <th>1</th>\n",
       "      <td>AE014299.2</td>\n",
       "      <td>2</td>\n",
       "      <td>1</td>\n",
       "    </tr>\n",
       "    <tr>\n",
       "      <th>2</th>\n",
       "      <td>AE014299.2</td>\n",
       "      <td>3</td>\n",
       "      <td>2</td>\n",
       "    </tr>\n",
       "    <tr>\n",
       "      <th>3</th>\n",
       "      <td>AE014299.2</td>\n",
       "      <td>4</td>\n",
       "      <td>2</td>\n",
       "    </tr>\n",
       "    <tr>\n",
       "      <th>4</th>\n",
       "      <td>AE014299.2</td>\n",
       "      <td>5</td>\n",
       "      <td>2</td>\n",
       "    </tr>\n",
       "  </tbody>\n",
       "</table>\n",
       "</div>"
      ],
      "text/plain": [
       "       genome  index  coverage\n",
       "0  AE014299.2      1         0\n",
       "1  AE014299.2      2         1\n",
       "2  AE014299.2      3         2\n",
       "3  AE014299.2      4         2\n",
       "4  AE014299.2      5         2"
      ]
     },
     "execution_count": 7,
     "metadata": {},
     "output_type": "execute_result"
    }
   ],
   "source": [
    "import matplotlib.pyplot as plt\n",
    "import numpy as np\n",
    "import pandas as pd\n",
    "\n",
    "# parse in the coverage.tab as a dataframe \n",
    "df = pd.read_csv('coverage.tab',sep='\\t',header=None,names = [\"genome\",\"index\",\"coverage\"])\n",
    "# inspect the df\n",
    "df[0:5]"
   ]
  },
  {
   "cell_type": "code",
   "execution_count": 3,
   "metadata": {},
   "outputs": [
    {
     "name": "stdout",
     "output_type": "stream",
     "text": [
      "max:\n",
      "281\n",
      "min:\n",
      "0\n",
      "mean:\n",
      "37.03830306625343\n"
     ]
    }
   ],
   "source": [
    "import matplotlib.pyplot as plt\n",
    "import numpy as np\n",
    "import pandas as pd\n",
    "\n",
    "# get the max, min, and mean of the coverage column\n",
    "print(\"max:\")\n",
    "print(np.max(df[\"coverage\"]))\n",
    "print(\"min:\")\n",
    "print(np.min(df[\"coverage\"]))\n",
    "print(\"mean:\")\n",
    "print(np.mean(df[\"coverage\"]))\n"
   ]
  },
  {
   "cell_type": "code",
   "execution_count": 6,
   "metadata": {},
   "outputs": [
    {
     "data": {
      "text/plain": [
       "Text(0.5, 0, 'Depth of the Coverage')"
      ]
     },
     "execution_count": 6,
     "metadata": {},
     "output_type": "execute_result"
    },
    {
     "data": {
      "image/png": "[encoded data removed]",
      "text/plain": [
       "<Figure size 432x288 with 1 Axes>"
      ]
     },
     "metadata": {
      "needs_background": "light"
     },
     "output_type": "display_data"
    },
    {
     "data": {
      "image/png": "[encoded data removed]",
      "text/plain": [
       "<Figure size 432x288 with 1 Axes>"
      ]
     },
     "metadata": {
      "needs_background": "light"
     },
     "output_type": "display_data"
    }
   ],
   "source": [
    "import matplotlib.pyplot as plt\n",
    "import numpy as np\n",
    "import pandas as pd\n",
    "\n",
    "# plot out the index-coverage scatter plot\n",
    "index = df[\"index\"]\n",
    "coverage = df[\"coverage\"]\n",
    "\n",
    "fig1= plt.figure()\n",
    "ax = fig1.add_subplot(111)\n",
    "bar1 = ax.scatter(index, coverage)\n",
    "plt.ylabel('depth of coverage')\n",
    "plt.xlabel('position in genome')\n",
    "\n",
    "# plot out the histogram\n",
    "fig2= plt.figure()\n",
    "ax2 = fig2.add_subplot(111)\n",
    "bar2 = ax2.hist(coverage, bins= 100)\n",
    "plt.ylabel('Count')\n",
    "plt.xlabel('Depth of the Coverage')"
   ]
  },
  {
   "cell_type": "markdown",
   "metadata": {},
   "source": [
    "### Extra Credit 1: To see what sex Jamie is- SPOILER ALERT: MALE\n",
    "\n",
    "1) determine lengths of all the human chromosomes in base pairs  \n",
    "\n",
    "from UCSC genome browser:  \n",
    "    i) chr1: 1- 248956422   \n",
    "    ii)chr2: 1-242193529  \n",
    "    iii)chr3: 1- 198295559  \n",
    "    iv)chr4: 1- 190214555  \n",
    "    v) chr5: 1- 181538259  \n",
    "    vi) chr6: 1- 170805979  \n",
    "    vii) chr 7: 1-159345973  \n",
    "    viii)chr8: 1- 145138686  \n",
    "    ix) chr9:1- 138394717  \n",
    "    x) chr10: 1- 133797422  \n",
    "    xi) chr11: 1-135086622  \n",
    "    xii) chr12: 1-133275309  \n",
    "    xiii) chr13: 1-114364368  \n",
    "    xiv) chr14: 1-107043718  \n",
    "    xv) chr 15: 1-101991189  \n",
    "    xvi) chr16: 1-90338345  \n",
    "    xvii) chr17: 1-83257441  \n",
    "    xviii)chr18: 1-80373285  \n",
    "    XiX)chr19: 1-58617616  \n",
    "    XX)chr20: 1- 64444167  \n",
    "    XXi)chr21: 1-46709983  \n",
    "    XXii)chr22: 1-50818468  \n",
    "    xxiii)chr x: 1-156040895  \n",
    "    xxiv)chr y: 1-57227415  \n",
    "    \n",
    "    \n",
    "2) create a coverage_human.tab file to find coverage of each position in the human genome by running all the same commands as above:\n",
    "`samtools view -b output.sam > human.aligned.bam`\n",
    "\n",
    "3) sort the bam:  \n",
    "`samtools sort human.aligned.bam > human.aligned.sorted.bam`\n",
    "\n",
    "4) index the bam:  \n",
    "`samtools index human.aligned.sorted.bam`\n",
    "\n",
    "5)  generate a list of coordinates in a genome and the number fo times a read aligned to that position  \n",
    "`samtools depth -a human.aligned.sorted.bam > human.tab`\n",
    "\n",
    "in interest of parsing time, skipped values with a 0 coverage depth\n",
    "\n",
    "6) read in .tab file as a dataframe and sum over different chromosome lengths to determine total depth for that chromosome\n",
    "    then divide by length to determine average\n",
    "    -tab file was too big:caused a memory error\n",
    "6) ALTERNATIVE:  \n",
    "create a limited tab file where ignore all values that are 0:\n",
    "`samtools depth human.aligned.sorted.bam > less_human.tab`\n",
    "calculate averages manually and plot as a scatter plot (see two code blocks immediately below)\n",
    "\n",
    "8) plot total depth of coverage plot- again using limited data (ignore all 0 values) so that computer can actually parse it without memory errors\n",
    "\n"
   ]
  },
  {
   "cell_type": "code",
   "execution_count": 1,
   "metadata": {},
   "outputs": [
    {
     "name": "stdout",
     "output_type": "stream",
     "text": [
      "2273514\n",
      "1509486\n",
      "244789\n"
     ]
    }
   ],
   "source": [
    "import matplotlib.pyplot as plt\n",
    "import numpy as np\n",
    "import pandas as pd\n",
    "import csv\n",
    "\n",
    "with open('less_human.tab') as csv_file:\n",
    "    csv_reader = csv.reader(csv_file, delimiter='\\t')\n",
    "    chr1 = 0\n",
    "    chr2 = 0\n",
    "    chr3 = 0\n",
    "    chr4 = 0\n",
    "    chr5 = 0\n",
    "    chr6 = 0\n",
    "    chr7 = 0\n",
    "    chr8 = 0\n",
    "    chr9 =0\n",
    "    chr10 = 0\n",
    "    chr11= 0\n",
    "    chr12 = 0\n",
    "    chr13 = 0\n",
    "    chr14 = 0\n",
    "    chr15 = 0\n",
    "    chr16 = 0\n",
    "    chr17 = 0\n",
    "    chr18 = 0\n",
    "    chr19 = 0\n",
    "    chr20 =0\n",
    "    chr21 = 0\n",
    "    chr22 = 0\n",
    "    chrX = 0\n",
    "    chrY = 0\n",
    "    for row in csv_reader:\n",
    "        if row[0] == 'chr1':\n",
    "            chr1 += int(row[2])\n",
    "        if row[0] == 'chr2':\n",
    "            chr2 += int(row[2])\n",
    "        if row[0] == 'chr3':\n",
    "            chr3 += int(row[2])\n",
    "        if row[0] == 'chr4':\n",
    "            chr4 += int(row[2])\n",
    "        if row[0] == 'chr5':\n",
    "            chr5 += int(row[2])\n",
    "        if row[0] == 'chr6':\n",
    "            chr6 += int(row[2])\n",
    "        if row[0] == 'chr7':\n",
    "            chr7 += int(row[2])\n",
    "        if row[0] == 'chr8':\n",
    "            chr8 += int(row[2])\n",
    "        if row[0] == 'chr9':\n",
    "            chr9 += int(row[2])\n",
    "        if row[0] == 'chr10':\n",
    "            chr10 += int(row[2])\n",
    "        if row[0] == 'chr11':\n",
    "            chr11 += int(row[2])\n",
    "        if row[0] == 'chr12':\n",
    "            chr12 += int(row[2])\n",
    "        if row[0] == 'chr13':\n",
    "            chr13 += int(row[2])\n",
    "        if row[0] == 'chr14':\n",
    "            chr14 += int(row[2])\n",
    "        if row[0] == 'chr15':\n",
    "            chr15 += int(row[2])\n",
    "        if row[0] == 'chr16':\n",
    "            chr16 += int(row[2])\n",
    "        if row[0] == 'chr17':\n",
    "            chr17 += int(row[2])\n",
    "        if row[0] == 'chr18':\n",
    "            chr18 += int(row[2])\n",
    "        if row[0] == 'chr19':\n",
    "            chr19 += int(row[2])\n",
    "        if row[0] == 'chr20':\n",
    "            chr20 += int(row[2])\n",
    "        if row[0] == 'chr21':\n",
    "            chr21 += int(row[2])\n",
    "        if row[0] == 'chr22':\n",
    "            chr22 += int(row[2])\n",
    "        if row[0] == 'chrX':\n",
    "            chrX += int(row[2])\n",
    "        if row[0] == 'chrY':\n",
    "            chrY += int(row[2])\n",
    "print(chr1)\n",
    "print(chrX)\n",
    "print(chrY)"
   ]
  },
  {
   "cell_type": "code",
   "execution_count": 8,
   "metadata": {},
   "outputs": [
    {
     "name": "stdout",
     "output_type": "stream",
     "text": [
      "[0.009132176554176216, 0.00993520351239442, 0.009933066630100374, 0.00996649809474359, 0.009892394087573574, 0.009915367189810141, 0.009837907858518647, 0.00994432318341369, 0.008723541087193379, 0.009901281954446029, 0.009811052940534703, 0.009892732644123901, 0.008456042882167635, 0.0083338379558154, 0.008096934726390923, 0.00881551460788882, 0.00946391085933088, 0.009399578479341737, 0.0095719007064361, 0.009303215914017478, 0.00753579807554201, 0.006945742638286538, 0.009673656383475627, 0.004277477848684936]\n"
     ]
    },
    {
     "data": {
      "text/plain": [
       "Text(0.5, 0, 'human chromosome number')"
      ]
     },
     "execution_count": 8,
     "metadata": {},
     "output_type": "execute_result"
    },
    {
     "data": {
      "image/png": "[encoded data removed]",
      "text/plain": [
       "<Figure size 432x288 with 1 Axes>"
      ]
     },
     "metadata": {
      "needs_background": "light"
     },
     "output_type": "display_data"
    }
   ],
   "source": [
    "#figure #1:average depth across each chromosome\n",
    "import matplotlib.pyplot as plt\n",
    "import numpy as np\n",
    "import pandas as pd\n",
    "import csv\n",
    "averages = [chr1/248956422, chr2/242193529, chr3/198295559 , chr4/190214555, chr5/181538259, chr6/170805979, chr7/159345973, chr8/145138686, chr9/138394717, chr10/133797422, chr11/135086622, chr12/133275309, chr13/114364368, chr14/107043718, chr15/101991189, chr16/90338345, chr17/83257441, chr18/80373285, chr19/58617616, chr20/64444167, chr21/46709983, chr22/50818468 , chrX/156040895, chrY/57227415]\n",
    "print(averages)\n",
    "\n",
    "xaxis= ['1','2','3','4','5','6','7','8','9','10','11','12','13','14','15','16','17','18','19','20','21','22','x','y']\n",
    "\n",
    "fig3= plt.figure()\n",
    "ax = fig3.add_subplot(111)\n",
    "bar1 = ax.scatter(xaxis, averages)\n",
    "plt.ylabel('average depth of coverage')\n",
    "plt.xlabel('human chromosome number')"
   ]
  },
  {
   "cell_type": "code",
   "execution_count": 10,
   "metadata": {},
   "outputs": [
    {
     "data": {
      "text/plain": [
       "Text(0.5, 0, 'Depth of the Coverage')"
      ]
     },
     "execution_count": 10,
     "metadata": {},
     "output_type": "execute_result"
    },
    {
     "data": {
      "image/png": "[encoded data removed]",
      "text/plain": [
       "<Figure size 432x288 with 1 Axes>"
      ]
     },
     "metadata": {
      "needs_background": "light"
     },
     "output_type": "display_data"
    }
   ],
   "source": [
    "import matplotlib.pyplot as plt\n",
    "import numpy as np\n",
    "import pandas as pd\n",
    "\n",
    "# parse in the coverage.tab as a dataframe \n",
    "df2 = pd.read_csv('less_human.tab',sep='\\t',header=None,names = [\"chromosome\",\"index\",\"coverage\"])\n",
    "# inspect the df\n",
    "df2[0:5]\n",
    "# plot out the histogram\n",
    "fig4= plt.figure()\n",
    "ax2 = fig4.add_subplot(111)\n",
    "bar2 = ax2.hist(df2['coverage'], bins= 100)\n",
    "plt.ylabel('Count')\n",
    "plt.xlabel('Depth of the Coverage')\n",
    "\n",
    "#Because all the 0 values were ignored, only 1 values are remaining. This makes sense considering this is contaminating dna"
   ]
  },
  {
   "cell_type": "markdown",
   "metadata": {},
   "source": [
    "### Extra Credit 2: To “zoom in” on regions  \n",
    "1. determine the positions with higher coverage than average\n",
    "2. extract the sequence from those regions with higher coverage than average\n",
    "3. BLAST regions"
   ]
  },
  {
   "cell_type": "code",
   "execution_count": 96,
   "metadata": {},
   "outputs": [],
   "source": [
    "# Determine positions with higher coverage than average\n",
    "# calculate out the average\n",
    "average = np.mean(df[\"coverage\"])\n",
    "# select the index with a coverage larger than average\n",
    "index = df.index[df.coverage > 2 * average].values\n",
    "len(index)\n",
    "# for the filtered indices, connect together the consecutive ones,specifying the start and end position\n",
    "# filter the strings with less than 100\n",
    "def make_regions(index):\n",
    "    start = index[0]\n",
    "#     print(start)\n",
    "    end = index[0]\n",
    "#     print(end)\n",
    "    pairs = []\n",
    "    for i in range(1,len(index)):\n",
    "        if index[i] == end + 1:\n",
    "            end = index[i]\n",
    "        else:\n",
    "            pair = (start,end)\n",
    "            pairs.append(pair)\n",
    "            start = index[i]\n",
    "            end = index[i]\n",
    "    last_pair = (start,end)\n",
    "    pairs.append(last_pair)\n",
    "    \n",
    "    filtered_pairs = []\n",
    "    for pair in pairs:\n",
    "        if abs(pair[0]-pair[1]) > 500:\n",
    "            filtered_pairs.append(pair)\n",
    "        else:\n",
    "            continue\n",
    "    return filtered_pairs\n",
    "\n",
    "filtered_pairs = make_regions(index)\n"
   ]
  },
  {
   "cell_type": "code",
   "execution_count": 97,
   "metadata": {},
   "outputs": [
    {
     "name": "stdout",
     "output_type": "stream",
     "text": [
      "16\n",
      "[(46853, 47600), (49594, 50112), (50238, 50755), (217403, 218288), (219546, 220135), (220224, 221108), (2132226, 2133028), (2656544, 2657210), (3440658, 3441226), (3698977, 3699960), (4027687, 4028426), (4155452, 4156722), (4317040, 4317880), (4319146, 4319721), (4497133, 4497651), (4498477, 4499281)]\n"
     ]
    }
   ],
   "source": [
    "# inspect how many regions larger than 500nt and all above average depth are there \n",
    "print(len(filtered_pairs))\n",
    "# inspect the start and end positions\n",
    "print(filtered_pairs)"
   ]
  },
  {
   "cell_type": "markdown",
   "metadata": {},
   "source": [
    "### Write a regions.fsa file that include one mapped reads of each region\n",
    "1. apply the command\n",
    "`samtools view shewanella.aligned.sorted.bam AE014299.2:start-end | cut -f 10 | head -n 1 `\n",
    "the command will take the sequence (the field 10 in the sam file) with the corresponding start and end region\n",
    "2. iterate the above code through a subprocess process and then write them all into a fsa file."
   ]
  },
  {
   "cell_type": "code",
   "execution_count": 100,
   "metadata": {},
   "outputs": [
    {
     "data": {
      "text/plain": [
       "'TACAGAAGAAGGACCGGCTAACTCCGTGCCAGCAGCCGCGGTAATACGGAGGGTCCGAGCGTTAATCGGAATTACTGGGCGTAAAGCGTGCGCAGGCGGTTTGTTAAGCGAGATGTGAAAGCCCTGGGCTCAACCTAGGAATCGCATTTCGAACTGACCAACTAGAGTCTTGTAGAGGGGGGTAGAATTCCAGGTGTAGCGGTGAAATGCGTAGAGATCTGGAGGAATACCGGTGGCAAAGGCGGCCCCCTGGACAAAGACTGACGCTCATGCACGAAAGCGTGGGGAGCAAACAGGATT\\n'"
      ]
     },
     "execution_count": 100,
     "metadata": {},
     "output_type": "execute_result"
    }
   ],
   "source": [
    "import subprocess\n",
    "import pandas as pd\n",
    "\n",
    "# pick a single region 46853, 47600 for demo\n",
    "p = subprocess.run(['samtools',\"view\",\"shewanella.aligned.sorted.bam\",\"AE014299.2:46853-47600\"], stdout=subprocess.PIPE, stderr= subprocess.PIPE)\n",
    "out = p.stdout.decode()\n",
    "out = str(out)\n",
    "p1 = subprocess.run([\"cut\",\"-f\",\"10\"], input = bytes(out, 'ascii'), stdout=subprocess.PIPE, stderr= subprocess.PIPE)\n",
    "out1 = p1.stdout.decode()\n",
    "out1\n",
    "p2 = subprocess.run([\"head\",\"-n\",\"1\"], input = bytes(out1, 'ascii'), stdout=subprocess.PIPE, stderr= subprocess.PIPE)\n",
    "out2 = p2.stdout.decode()\n",
    "out2 \n"
   ]
  },
  {
   "cell_type": "markdown",
   "metadata": {},
   "source": [
    "As we can see, the reads, that mapped to the specified region will have their sequences in the 9th column"
   ]
  },
  {
   "cell_type": "code",
   "execution_count": 72,
   "metadata": {},
   "outputs": [
    {
     "name": "stdout",
     "output_type": "stream",
     "text": [
      "mapped sequence to AE014299.2:46853-47600\n",
      "TACAGAAGAAGGACCGGCTAACTCCGTGCCAGCAGCCGCGGTAATACGGAGGGTCCGAGCGTTAATCGGAATTACTGGGCGTAAAGCGTGCGCAGGCGGTTTGTTAAGCGAGATGTGAAAGCCCTGGGCTCAACCTAGGAATCGCATTTCGAACTGACCAACTAGAGTCTTGTAGAGGGGGGTAGAATTCCAGGTGTAGCGGTGAAATGCGTAGAGATCTGGAGGAATACCGGTGGCAAAGGCGGCCCCCTGGACAAAGACTGACGCTCATGCACGAAAGCGTGGGGAGCAAACAGGATT\n"
     ]
    }
   ],
   "source": [
    "seq = df_out[9][0]\n",
    "print(\"mapped sequence to AE014299.2:46853-47600:\")\n",
    "print(seq)"
   ]
  },
  {
   "cell_type": "markdown",
   "metadata": {},
   "source": [
    "### Iterate through the regions and output a fsa file with all the sequence in fasta format"
   ]
  },
  {
   "cell_type": "code",
   "execution_count": 105,
   "metadata": {},
   "outputs": [
    {
     "name": "stdout",
     "output_type": "stream",
     "text": [
      "> mapped sequence toAE014299.2:46853-47600\n",
      "TACAGAAGAAGGACCGGCTAACTCCGTGCCAGCAGCCGCGGTAATACGGAGGGTCCGAGCGTTAATCGGAATTACTGGGCGTAAAGCGTGCGCAGGCGGTTTGTTAAGCGAGATGTGAAAGCCCTGGGCTCAACCTAGGAATCGCATTTCGAACTGACCAACTAGAGTCTTGTAGAGGGGGGTAGAATTCCAGGTGTAGCGGTGAAATGCGTAGAGATCTGGAGGAATACCGGTGGCAAAGGCGGCCCCCTGGACAAAGACTGACGCTCATGCACGAAAGCGTGGGGAGCAAACAGGATT\n",
      "\n",
      "> mapped sequence toAE014299.2:49594-50112\n",
      "GGTGAGGCCGAAAGGCGTAATCGATGGGAAACAGATTAATATTTCTGTACTTTTGCTAACTGCGATGGAGAGACGGAGAAGGCTAGGCTAGCGCGGCGTTGGTAGTCCGCGTTTAAGGTGGTAGGTGGGTGACTTAGGCAAATCCGGGTCACTATACACTGAGAGCTGATGACGAGTCCCCAAGGGGATGAAGTAGTTGATGCCATGCTTCCAGGAAAATCTTCTAAGCTTCAGGTTAGTAGGAATCGTACCCCAAACCGACACAGGTGGTCGGGTAGAGAATACCAAGGCGCTTGAG\n",
      "\n",
      "> mapped sequence toAE014299.2:50238-50755\n",
      "TGAAGTTGAAATTGCGGTGAAGATGCCGTATACCCGCGGCTAGACGGAAAGACCCCGTGAAACTTTACTATAGCTTGGCACTGAACATTGACCCTACATGTGTAGGATAGGTGGGAGACTTTGAAGTTGGAACGCTAGTTCTGATGGAGTCGTCCTTGAAATACCACCCTTGTAGTGTTAATGTTATAACATGGCCCCATTATATGGGGTAAAAACAGTGCCTGGTGGGTAGTTTGACTGGGGCAGTCTCCTCCCAAAGAGTAAAGAAGGAGCACAAAGATTGGCTAAGTACGGTCTGAC\n",
      "\n",
      "> mapped sequence toAE014299.2:217403-218288\n",
      "GACTCCTACGGGAGGCAGCAGGGGGGAATATTGCACAATGGGGGAAACCCTTATGCAGCTATGCCGCGTGTGTGAAGAAGGCCTTCGTGTTTTAAAGCACTTTCAGTAGGGAGGAAAGGGTAAGTTCTTATACGGTTTATCTGTGACGTTACCTACAGAAGAAGGACCGGCTAACTCCGTGCCAGCAGCCGCGGTAATACGGAGGGTCCGAGCGTTAATCGGAATTACTGGGCGTAAAGCGTGCGCAGGCGGTTTGTTAAGCGAGATGTGAAAGCCCTGGGCTCAACCTAGGAATCGCAT\n",
      "\n",
      "> mapped sequence toAE014299.2:219546-220135\n",
      "GGGAAAGGCCAGCGGAACAGGGTGATAGACCCGTACACGAAAACTAACCTTTGATGAAAACGAGTAAGGCGGGACATGTGATATCTTGTTTGAATATGGGGGGACCATCCTCCAATGCTAAATACTCCTGACTGACCGATAGTGAACCAGTACCGTGAGGGAAAGGCGAAAAGAACCCCTGTGAGGGGAGTGAAATAGAACCTGAAACCGTATACGTACAAGCAGTGGGAGCGGTACTTGAGACCGTGACTGCGTACCTTTTGTATAATGGGTCAGCGACTTACGTTTTGTAGCGAGGTT\n",
      "\n",
      "> mapped sequence toAE014299.2:220224-221108\n",
      "CCAGACCGTCAGCTAAGGTCCCAAAGTGTATGTTAAGTGGGAAACGATGTGGGAAGGCTTAGACAGCTAGGATGTTGGCTTAGAAGCAGCCATCATTTAAAGAAAGCGTAATAGCTCACTAGTCGAGTCGGCCTACGCGGAAGATGTAACGGGGCTAAAAATACCAACGAAACTACGGGTGCAAACAATTAGGGTAGCGCGGTAGAGGAGCGTTCTGTAAGCCGTAGAAGATGAAAGGGTAACCCACACTGGAGGTATCCGAAGTGCGAATGCTGACCTGAGTAACGATACAGGGGGTGG\n",
      "\n",
      "> mapped sequence toAE014299.2:2132226-2133028\n",
      "AGTTGCCGCAGGATGAGCGCCAGCTTTTTGCGGCGGCAAGCATTGGCAAGAAAACCAAAATGTCTCACTCGCATCAGCCCTTTGGGCAACACATGCAGTAAATAACGGCGGATAAACTCATCACAGCTTAGACACATTTGCTTATGCTGCTGACCGTCACGATAGTATATGTAGTTAAAACGGACATGGTCAGCGGTCACTTCTGCAATTCTTGATTCATGCAACATGCCTTTACGGGTATAACGCCCAAGGTATTCCACCACGGTTTCGGCGCGGCTTAGACACGCTTTGCTGTAAAC\n",
      "\n",
      "> mapped sequence toAE014299.2:2656544-2657210\n",
      "AGGCTGACACTCATACCCTATCCCCCCATCGGCTTAACCCCATAAGGCTGGCTGCTTTTCGCTGTCGGTTACGCTACGTCTTGAGGGCGTGGTTATCCTGACATTCGTACTGGCTGACCTTGGCTGTTTATCATCACTACCGACTGCGGTCTTATCAACCCAATAAACTGCAAATGACCTAACTAGCATTGCGGACATGACCACAAACAGTCCTTCTTAACCAAAGGACTCGCCAATACCACCTGCGGCTTACGTAGTTGCCGCAGGATGAGCGCCAGCTTTTTGCGGCGGCAAGCATTG\n",
      "\n",
      "> mapped sequence toAE014299.2:3440658-3441226\n",
      "TTTGGCTTTGTTTACTAAATCGAGGAAGCGAATAATACTCTCTTTTTTGTTCAAATATCAATTTTTATAGTGGTTTTCAGGCATATTTATCCTAGTTATCTTATTTAAAGCCCTAATCATCTCTTTGTTTTTTCCCACCTTAGCGTTATAATTCCGCATGCTCAACGTGCCTCCTAGCTGTTGTTTTATCTTGTACATAGCGGTTTCTGAGATTGAGCGGCGATGATAACCATACCGTTTTTTCCATTGCTTATTTGAGCCATGAAGCTGTTGCCAACTGACGGCTAAGTTTCGTGGA\n",
      "\n",
      "> mapped sequence toAE014299.2:3698977-3699960\n",
      "GAGTGATATGGCTTAAAAATTTGTTAAAAAGGGAGTTATTGATGAAACTAAACATGTTTCAATTACAACCGATATGCTTCAAAGACTCGTTGTTCTCCGCAACTATATAAAATCATATGGAGTAGACCCTGTTGAAATTGAAAATTGGGTTTGGACACGCTAACCGTTAATCAAATGAATTAGTCTCGACTTGATCTGACACATCGCCTTGAAAAGGTGAGAGTTACCAGTTTTGATTGTGGGTGTCGAATCCTTAATCAAAACCAAGGAGGTAACTCTCATGCTCCATAGTAACAATC\n",
      "\n",
      "> mapped sequence toAE014299.2:4027687-4028426\n",
      "GGGTGGTGTGATAGGTTTTATGGTTACCGGGGGTTTGTGGAGGATTGCTTTTTGTATGAATTTATCGAATATATTCTTAGTATTCTATATTTCAAGAACTGTTTTTAAGAAGCTGTTTAACATGCATTGATGGTGTATGCGATTGATTTTCCTGCCCATTGCCAGCTCAGAACCAGCAATGAACTGCTCAAAAAAGGCGTGTTTGTTTCTGGCAGTGGTGTCAGCTCAATCTGGTTGCGACATGATTTAGAGAACTTTAAGAAGCGACTGAAAGCCTTGGAAGCCAAAGTAGCTCGCGAT\n",
      "\n",
      "> mapped sequence toAE014299.2:4155452-4156722\n",
      "ACCCAATTCAATACTTTGCTGGTATAGGGTGATAGCACGCTTTGGATCGGCATCGCCCCCCTCGCCCGCATCAAGCAAACTTGCTAAGCGAAAATAAGCATAGCAAAGCACATATTGCTTAATGTAATGTTTTTCTCCGGCGGTGAAGACTTTTTCGAGCCAAAATAAAAACCGATTAGGAACGCGCTGCTCACACGCCAATAAAAAAACAACAAATTCGACGGCGACATCAATATAAAGCACGGCACCCAACCCAAAAAACCACCCCCCCTCGCCCAAACCCTCTTTAACATAGTAAT\n",
      "\n",
      "> mapped sequence toAE014299.2:4317040-4317880\n",
      "CCGCGCAAAGCCAAGCAGTGACCGAAGACAGTACGCTGCTCACTGGCCAGATAACTGCCTCCGATGTGGATAGAGGCGACACACAAATCTTCAGCCTCGCCCACGCCGTCGATGGCTTCACGCTCAACACAGACGGCCGCTACAGCTTCGATCCTGCACATGGCAGCTATAAGCACCTGGCCACCGGTCAGACGCAAACCCTGACCATCACGATCATCGTCACGGACAGCGTGGGTGCCAGCAGCACCGCAAACCTGACGATCACCCTGACGGGTACGAATGACGGTGCTGCTGGCCC\n",
      "\n",
      "> mapped sequence toAE014299.2:4319146-4319721\n",
      "CACTTCATCGCGCAAAGCGGCACGGCGGGCAGCTATGGGCAATTCAGCCTTGATGAAAACGGCCAGTGGCACTACCAGATCGACAACAGCAAGCCCGAGGTGCAGGCCCTGCGCGACGGCCAGAACGTCACCGACAGCTTCACCGTGCGCAGCGCCGACGGTACGGCGCACACGGTCAACATCAGCATCGCCAGCAAGAACAATTCAACAGTCATCACCAGTGAGGACCACCAGACCCTGACCGAAGACCAGAACGTCAACACCACCCAGCTCACCGCCCACCCCCCGCTGCATGCCAGC\n",
      "\n",
      "> mapped sequence toAE014299.2:4497133-4497651\n",
      "GAAAAAAAAAGGTCCAGTGATCACGGGGAGGGCTACGGAGGACACGCAAGATAAACCGTCCTTTATCATTGGTACAACGGTTTTTCTTCTAGTTATTATTTTCACTTTTTTTTTTACCGACAGTACGGTAGCAAAACAAACTTTTACAACTACGTTTAATCCAGATGGAACTTATGCAGTTGATGTGACCAATCCTATCGCTGAAGGTGGCTATACGGCAGAGGTTTCAGTCACAGACCCAGCGGGCAATACAGGAAAAGCCAGCGATAACGGCAATGTTGACACCAAGATTGACCAAG\n",
      "\n",
      "> mapped sequence toAE014299.2:4498477-4499281\n",
      "CCTTCAGCGAGAAGGTAAAAGACTTCGAAGTGGGCGACCTGACCATGGTGGGCGGCACTGTTACCGACCTCAAGACCACCGACGGCGGCAAGACCTGGACCGGGACCTTCACGCCGACCCCAGGCTTCACTGGCACCGCCAGCGTCACCGTGAACAACGGCAGCTACACCGATCTCAACGGCAACATGGGCACCGGCGGCCAGGACACTGCGCCGGTCGACACCCAGGCCCCGAGCGTGGTGGTCAACATCGTTGACGACAAGCTGACTGTTGGCGAGACCAGCGAGGTCACCTTCACCT\n",
      "\n"
     ]
    }
   ],
   "source": [
    "import subprocess\n",
    "import pandas as pd\n",
    "\n",
    "f2 = open(\"filtered_regions.fsa\",\"w\")\n",
    "for pair in filtered_pairs:\n",
    "    region = \"AE014299.2:\" + str(pair[0]) + \"-\" + str(pair[1])\n",
    "    p = subprocess.run(['samtools',\"view\",\"shewanella.aligned.sorted.bam\",region], stdout=subprocess.PIPE, stderr= subprocess.PIPE)\n",
    "    out = p.stdout.decode()\n",
    "    p1 = subprocess.run([\"cut\",\"-f\",\"10\"], input = bytes(out, 'ascii'), stdout=subprocess.PIPE, stderr= subprocess.PIPE)\n",
    "    out1 = p1.stdout.decode()\n",
    "    p2 = subprocess.run([\"head\",\"-n\",\"1\"], input = bytes(out1, 'ascii'), stdout=subprocess.PIPE, stderr= subprocess.PIPE)\n",
    "    out2 = p2.stdout.decode()\n",
    "    seq = str(out2)\n",
    "    print(\"> mapped sequence to\" + region)\n",
    "    print(seq)    \n",
    "    f2.write(\">\" + region + \"\\n\")\n",
    "    f2.write(seq + \"\\n\")\n",
    "f2.close()\n"
   ]
  },
  {
   "cell_type": "markdown",
   "metadata": {},
   "source": [
    "### BLAST result from the server (select the max score hit for each region for the MR-1 strain)\n",
    "1. https://www.ncbi.nlm.nih.gov/nucleotide/MH539606.1?report=genbank&log$=nuclalign&blast_rank=1&RID=UY9A4NR9015&from=272&to=571\n",
    "/gene=\"rrsA\"\n",
    "/locus_tag=\"SO_r001\"\n",
    "/product=\"16S ribosomal RNA\"\n",
    "\n",
    "2. https://www.ncbi.nlm.nih.gov/nucleotide/AE014299.2?report=genbank&log$=nuclalign&blast_rank=1&RID=UY9A4NR9015&from=49305&to=49602\n",
    "AE014299 \n",
    "/gene=\"rrlA\"\n",
    "/locus_tag=\"SO_r002\"\n",
    "\n",
    "3. https://www.ncbi.nlm.nih.gov/nucleotide/NR_076190.1?report=genbank&log$=nuclalign&blast_rank=1&RID=UY9A4NR9015&from=2001&to=2300\n",
    "/gene=\"rrlA\"\n",
    "/locus_tag=\"SO_r002\"\n",
    "/product=\"23S ribosomal RNA\"\n",
    "\n",
    "4. https://www.ncbi.nlm.nih.gov/nucleotide/MH160656.1?report=genbank&log$=nuclalign&blast_rank=1&RID=UY9A4NR9015&from=119&to=418\n",
    "/gene=\"rrsB\"\n",
    "/locus_tag=\"SO_r004\"\n",
    "/product=\"16S ribosomal RNA\"\n",
    "\n",
    "5. https://www.ncbi.nlm.nih.gov/nucleotide/AE014299.2?report=genbank&log$=nuclalign&blast_rank=2&RID=UY9A4NR9015&from=219255&to=219553\n",
    "/gene=\"rrlB\"\n",
    "/locus_tag=\"SO_r005\"\n",
    "/product=\"23S ribosomal RNA\"\n",
    "\n",
    "6. https://www.ncbi.nlm.nih.gov/nucleotide/AE014299.2?report=genbank&log$=nuclalign&blast_rank=1&RID=UY9A4NR9015&from=48935&to=49233\n",
    "/gene=\"rrlA\"\n",
    "/locus_tag=\"SO_r002\"\n",
    "/product=\"23S ribosomal RNA\"\n",
    "\n",
    "7. https://www.ncbi.nlm.nih.gov/nucleotide/AE014299.2?report=genbank&log$=nuclalign&blast_rank=1&RID=UY9A4NR9015&from=1586614&to=1586912\n",
    "/gene=\"tnpA\"\n",
    "/locus_tag=\"SO_1511\"\n",
    "\n",
    "8. https://www.ncbi.nlm.nih.gov/nucleotide/AE014299.2?report=genbank&log$=nuclalign&blast_rank=1&RID=UY9A4NR9015&from=2656250&to=2656549\n",
    "/gene=\"tnpA\"\n",
    "/locus_tag=\"SO_2527\"\n",
    "\n",
    "9. https://www.ncbi.nlm.nih.gov/nucleotide/AE014299.2?report=genbank&log$=nuclalign&blast_rank=1&RID=UY9A4NR9015&from=3440362&to=3440660\n",
    "/gene=\"tnpA\"\n",
    "/locus_tag=\"SO_3296\"\n",
    "\n",
    "10. https://www.ncbi.nlm.nih.gov/nucleotide/AE014299.2?report=genbank&log$=nuclalign&blast_rank=1&RID=UY9A4NR9015&from=3698710&to=3699008\n",
    "/gene=\"tnpA\"\n",
    "/locus_tag=\"SO_3543\"\n",
    "\n",
    "11. https://www.ncbi.nlm.nih.gov/nucleotide/AE014299.2?report=genbank&log$=nuclalign&blast_rank=1&RID=UY9A4NR9015&from=4027416&to=4027708\n",
    "/gene=\"tnpA\"\n",
    "/locus_tag=\"SO_3880\"\n",
    "\n",
    "12. https://www.ncbi.nlm.nih.gov/nucleotide/AE014299.2?report=genbank&log$=nuclalign&blast_rank=1&RID=UY9A4NR9015&from=4155155&to=4155453\n",
    "/locus_tag=\"SO_4013\"\n",
    "/product=\"TPR repeat domain protein\"\n",
    "\n",
    "13. https://www.ncbi.nlm.nih.gov/nucleotide/AE014299.2?report=genbank&log$=nuclalign&blast_rank=1&RID=UY9A4NR9015&from=4316767&to=4317055\n",
    "/product = secreted VCBS domain protein\n",
    "/locus_tag=\"SO_4149\"\n",
    "\n",
    "14. https://www.ncbi.nlm.nih.gov/nucleotide/AE014299.2?report=genbank&log$=nuclalign&blast_rank=1&RID=UY9A4NR9015&from=4318848&to=4319147\n",
    "/locus_tag=\"SO_4149\"\n",
    "/product=\"secreted VCBS domain protein\"\n",
    "\n",
    "15. https://www.ncbi.nlm.nih.gov/nucleotide/AE014299.2?report=genbank&log$=nuclalign&blast_rank=1&RID=UY9A4NR9015&from=4496850&to=4497139\n",
    "/gene=\"bpfA\"\n",
    "/locus_tag=\"SO_4317\"\n",
    "\n",
    "16. https://www.ncbi.nlm.nih.gov/nucleotide/AE014299.2?report=genbank&log$=nuclalign&blast_rank=1&RID=UY9A4NR9015&from=4498181&to=4498480\n",
    "/gene=\"bpfA\"\n",
    "/locus_tag=\"SO_4317\"\n"
   ]
  }
 ],
 "metadata": {
  "kernelspec": {
   "display_name": "Python 3",
   "language": "python",
   "name": "python3"
  },
  "language_info": {
   "codemirror_mode": {
    "name": "ipython",
    "version": 3
   },
   "file_extension": ".py",
   "mimetype": "text/x-python",
   "name": "python",
   "nbconvert_exporter": "python",
   "pygments_lexer": "ipython3",
   "version": "3.6.6"
  }
 },
 "nbformat": 4,
 "nbformat_minor": 2
}
